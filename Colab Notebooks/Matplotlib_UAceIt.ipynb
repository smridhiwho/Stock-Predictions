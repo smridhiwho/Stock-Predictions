{
  "nbformat": 4,
  "nbformat_minor": 0,
  "metadata": {
    "colab": {
      "name": "Matplotlib- UAceIt.ipynb",
      "provenance": [],
      "collapsed_sections": []
    },
    "kernelspec": {
      "name": "python3",
      "display_name": "Python 3"
    },
    "language_info": {
      "name": "python"
    }
  },
  "cells": [
    {
      "cell_type": "code",
      "execution_count": null,
      "metadata": {
        "id": "5_kpDavaN1J8"
      },
      "outputs": [],
      "source": [
        "#Data Visualization -- Matplotlib\n",
        "# pyplot submodule allows us the best object oriented interface  to use matplpotlib library\n",
        "import matplotlib.pyplot as plt"
      ]
    },
    {
      "cell_type": "code",
      "source": [
        "#CReating a DataFrame--\n",
        "# Import pandas library\n",
        "import pandas as pd\n",
        " \n",
        "# initialize list of lists\n",
        "delhi = [['Jan', 15], ['Feb', 20], ['Mar', 30], ['Apr', 35], ['May', 40], ['Jun', 42],['Jul', 45],['Aug', 37], ['Sept', 30], ['Oct', 30], ['Nov', 25], ['Dec', 20]]\n",
        "mumbai = [['Jan', 25], ['Feb', 25], ['Mar', 30], ['Apr', 35], ['May', 35], ['Jun', 37],['Jul', 37],['Aug', 37], ['Sept', 30], ['Oct', 30], ['Nov', 30], ['Dec', 25]]\n",
        "# Create the pandas DataFrame\n",
        "delhi_weather = pd.DataFrame(delhi, columns = ['Month', 'Temp'])\n",
        "mumbai_weather = pd.DataFrame(mumbai, columns = ['Month', 'Temp'])\n",
        "\n",
        "# print dataframe.\n",
        "delhi_weather"
      ],
      "metadata": {
        "colab": {
          "base_uri": "https://localhost:8080/",
          "height": 426
        },
        "id": "AWhT0jzRTLXv",
        "outputId": "a3562e94-64af-4ed7-cc8d-90c494e783d0"
      },
      "execution_count": null,
      "outputs": [
        {
          "output_type": "execute_result",
          "data": {
            "text/html": [
              "\n",
              "  <div id=\"df-c578a1ab-23c5-43a0-a198-1eb0b465fb60\">\n",
              "    <div class=\"colab-df-container\">\n",
              "      <div>\n",
              "<style scoped>\n",
              "    .dataframe tbody tr th:only-of-type {\n",
              "        vertical-align: middle;\n",
              "    }\n",
              "\n",
              "    .dataframe tbody tr th {\n",
              "        vertical-align: top;\n",
              "    }\n",
              "\n",
              "    .dataframe thead th {\n",
              "        text-align: right;\n",
              "    }\n",
              "</style>\n",
              "<table border=\"1\" class=\"dataframe\">\n",
              "  <thead>\n",
              "    <tr style=\"text-align: right;\">\n",
              "      <th></th>\n",
              "      <th>Month</th>\n",
              "      <th>Temp</th>\n",
              "    </tr>\n",
              "  </thead>\n",
              "  <tbody>\n",
              "    <tr>\n",
              "      <th>0</th>\n",
              "      <td>Jan</td>\n",
              "      <td>15</td>\n",
              "    </tr>\n",
              "    <tr>\n",
              "      <th>1</th>\n",
              "      <td>Feb</td>\n",
              "      <td>20</td>\n",
              "    </tr>\n",
              "    <tr>\n",
              "      <th>2</th>\n",
              "      <td>Mar</td>\n",
              "      <td>30</td>\n",
              "    </tr>\n",
              "    <tr>\n",
              "      <th>3</th>\n",
              "      <td>Apr</td>\n",
              "      <td>35</td>\n",
              "    </tr>\n",
              "    <tr>\n",
              "      <th>4</th>\n",
              "      <td>May</td>\n",
              "      <td>40</td>\n",
              "    </tr>\n",
              "    <tr>\n",
              "      <th>5</th>\n",
              "      <td>Jun</td>\n",
              "      <td>42</td>\n",
              "    </tr>\n",
              "    <tr>\n",
              "      <th>6</th>\n",
              "      <td>Jul</td>\n",
              "      <td>45</td>\n",
              "    </tr>\n",
              "    <tr>\n",
              "      <th>7</th>\n",
              "      <td>Aug</td>\n",
              "      <td>37</td>\n",
              "    </tr>\n",
              "    <tr>\n",
              "      <th>8</th>\n",
              "      <td>Sept</td>\n",
              "      <td>30</td>\n",
              "    </tr>\n",
              "    <tr>\n",
              "      <th>9</th>\n",
              "      <td>Oct</td>\n",
              "      <td>30</td>\n",
              "    </tr>\n",
              "    <tr>\n",
              "      <th>10</th>\n",
              "      <td>Nov</td>\n",
              "      <td>25</td>\n",
              "    </tr>\n",
              "    <tr>\n",
              "      <th>11</th>\n",
              "      <td>Dec</td>\n",
              "      <td>20</td>\n",
              "    </tr>\n",
              "  </tbody>\n",
              "</table>\n",
              "</div>\n",
              "      <button class=\"colab-df-convert\" onclick=\"convertToInteractive('df-c578a1ab-23c5-43a0-a198-1eb0b465fb60')\"\n",
              "              title=\"Convert this dataframe to an interactive table.\"\n",
              "              style=\"display:none;\">\n",
              "        \n",
              "  <svg xmlns=\"http://www.w3.org/2000/svg\" height=\"24px\"viewBox=\"0 0 24 24\"\n",
              "       width=\"24px\">\n",
              "    <path d=\"M0 0h24v24H0V0z\" fill=\"none\"/>\n",
              "    <path d=\"M18.56 5.44l.94 2.06.94-2.06 2.06-.94-2.06-.94-.94-2.06-.94 2.06-2.06.94zm-11 1L8.5 8.5l.94-2.06 2.06-.94-2.06-.94L8.5 2.5l-.94 2.06-2.06.94zm10 10l.94 2.06.94-2.06 2.06-.94-2.06-.94-.94-2.06-.94 2.06-2.06.94z\"/><path d=\"M17.41 7.96l-1.37-1.37c-.4-.4-.92-.59-1.43-.59-.52 0-1.04.2-1.43.59L10.3 9.45l-7.72 7.72c-.78.78-.78 2.05 0 2.83L4 21.41c.39.39.9.59 1.41.59.51 0 1.02-.2 1.41-.59l7.78-7.78 2.81-2.81c.8-.78.8-2.07 0-2.86zM5.41 20L4 18.59l7.72-7.72 1.47 1.35L5.41 20z\"/>\n",
              "  </svg>\n",
              "      </button>\n",
              "      \n",
              "  <style>\n",
              "    .colab-df-container {\n",
              "      display:flex;\n",
              "      flex-wrap:wrap;\n",
              "      gap: 12px;\n",
              "    }\n",
              "\n",
              "    .colab-df-convert {\n",
              "      background-color: #E8F0FE;\n",
              "      border: none;\n",
              "      border-radius: 50%;\n",
              "      cursor: pointer;\n",
              "      display: none;\n",
              "      fill: #1967D2;\n",
              "      height: 32px;\n",
              "      padding: 0 0 0 0;\n",
              "      width: 32px;\n",
              "    }\n",
              "\n",
              "    .colab-df-convert:hover {\n",
              "      background-color: #E2EBFA;\n",
              "      box-shadow: 0px 1px 2px rgba(60, 64, 67, 0.3), 0px 1px 3px 1px rgba(60, 64, 67, 0.15);\n",
              "      fill: #174EA6;\n",
              "    }\n",
              "\n",
              "    [theme=dark] .colab-df-convert {\n",
              "      background-color: #3B4455;\n",
              "      fill: #D2E3FC;\n",
              "    }\n",
              "\n",
              "    [theme=dark] .colab-df-convert:hover {\n",
              "      background-color: #434B5C;\n",
              "      box-shadow: 0px 1px 3px 1px rgba(0, 0, 0, 0.15);\n",
              "      filter: drop-shadow(0px 1px 2px rgba(0, 0, 0, 0.3));\n",
              "      fill: #FFFFFF;\n",
              "    }\n",
              "  </style>\n",
              "\n",
              "      <script>\n",
              "        const buttonEl =\n",
              "          document.querySelector('#df-c578a1ab-23c5-43a0-a198-1eb0b465fb60 button.colab-df-convert');\n",
              "        buttonEl.style.display =\n",
              "          google.colab.kernel.accessAllowed ? 'block' : 'none';\n",
              "\n",
              "        async function convertToInteractive(key) {\n",
              "          const element = document.querySelector('#df-c578a1ab-23c5-43a0-a198-1eb0b465fb60');\n",
              "          const dataTable =\n",
              "            await google.colab.kernel.invokeFunction('convertToInteractive',\n",
              "                                                     [key], {});\n",
              "          if (!dataTable) return;\n",
              "\n",
              "          const docLinkHtml = 'Like what you see? Visit the ' +\n",
              "            '<a target=\"_blank\" href=https://colab.research.google.com/notebooks/data_table.ipynb>data table notebook</a>'\n",
              "            + ' to learn more about interactive tables.';\n",
              "          element.innerHTML = '';\n",
              "          dataTable['output_type'] = 'display_data';\n",
              "          await google.colab.output.renderOutput(dataTable, element);\n",
              "          const docLink = document.createElement('div');\n",
              "          docLink.innerHTML = docLinkHtml;\n",
              "          element.appendChild(docLink);\n",
              "        }\n",
              "      </script>\n",
              "    </div>\n",
              "  </div>\n",
              "  "
            ],
            "text/plain": [
              "   Month  Temp\n",
              "0    Jan    15\n",
              "1    Feb    20\n",
              "2    Mar    30\n",
              "3    Apr    35\n",
              "4    May    40\n",
              "5    Jun    42\n",
              "6    Jul    45\n",
              "7    Aug    37\n",
              "8   Sept    30\n",
              "9    Oct    30\n",
              "10   Nov    25\n",
              "11   Dec    20"
            ]
          },
          "metadata": {},
          "execution_count": 4
        }
      ]
    },
    {
      "cell_type": "code",
      "source": [
        "plt.plot(delhi_weather['Month'], delhi_weather['Temp'], color=\"red\", marker = \"o\", linestyle=\"--\")\n",
        "plt.plot(mumbai_weather['Month'], mumbai_weather['Temp'], color=\"blue\", marker = \"o\", linestyle = \"None\")\n",
        "plt.title(\"Avg monthly temp in Delhi vs Mumbai\", color=\"green\")\n",
        "plt.xlabel(\"Time(months)\")\n",
        "plt.ylabel(\"Temp(Celsius\")\n",
        "plt.show()\n",
        "\n",
        "#https://matplotlib.org/api/markers_api.html"
      ],
      "metadata": {
        "colab": {
          "base_uri": "https://localhost:8080/",
          "height": 295
        },
        "id": "_ASJ68CUSP4N",
        "outputId": "8ea1c8c8-f175-4a4a-a451-76301cc0ff82"
      },
      "execution_count": null,
      "outputs": [
        {
          "output_type": "display_data",
          "data": {
            "image/png": "[encoded data removed]",
            "text/plain": [
              "<Figure size 432x288 with 1 Axes>"
            ]
          },
          "metadata": {
            "needs_background": "light"
          }
        }
      ]
    },
    {
      "cell_type": "code",
      "source": [
        "fig, ax = plt.subplots(2, 1, sharey=True)\n",
        "ax[0].plot(delhi_weather['Month'], delhi_weather['Temp'], color=\"g\", marker=\"v\")\n",
        "ax[1].plot(mumbai_weather['Month'], mumbai_weather['Temp'], color=\"red\", marker = \"o\")\n",
        "ax[0].set_ylabel(\"Temperature(Celsius)\")\n",
        "ax[1].set_ylabel(\"Temperature(Celsius)\")\n",
        "ax[1].set_xlabel(\"Time (months)\")\n",
        "plt.show()\n",
        "#sharey=True -- to ensure same range on y axis"
      ],
      "metadata": {
        "colab": {
          "base_uri": "https://localhost:8080/",
          "height": 283
        },
        "id": "46T_t7fdeM9a",
        "outputId": "a570c5c5-a68f-48c7-c2bc-b98eb3739dc1"
      },
      "execution_count": null,
      "outputs": [
        {
          "output_type": "display_data",
          "data": {
            "image/png": "[encoded data removed]",
            "text/plain": [
              "<Figure size 432x288 with 2 Axes>"
            ]
          },
          "metadata": {
            "needs_background": "light"
          }
        }
      ]
    },
    {
      "cell_type": "code",
      "source": [
        "#CReating a DataFrame--\n",
        "# Import pandas library\n",
        "import pandas as pd\n",
        " \n",
        "# initialize list of lists\n",
        "delhi_temp = [['Jan', 15], ['Feb', 20], ['Mar', 30], ['Apr', 35], ['May', 40], ['Jun', 42],['Jul', 45],['Aug', 37], ['Sept', 30], ['Oct', 30], ['Nov', 25], ['Dec', 20]]\n",
        "delhi_aiq = [['Jan', 337], ['Feb', 348], ['Mar', 284], ['Apr', 227], ['May', 81], ['Jun', 117],['Jul', 97],['Aug', 279], ['Sept', 121], ['Oct', 275], ['Nov', 431], ['Dec', 401]]\n",
        "# Create the pandas DataFrame\n",
        "temp = pd.DataFrame(delhi_temp, columns = ['Month', 'Temp'])\n",
        "aiq = pd.DataFrame(delhi_aiq, columns = ['Month', 'AIQ'])"
      ],
      "metadata": {
        "id": "BfM74dm-IKvn"
      },
      "execution_count": null,
      "outputs": []
    },
    {
      "cell_type": "code",
      "source": [
        "fig, ax = plt.subplots()\n",
        "ax.plot(temp['Month'],temp['Temp'], color=\"red\")\n",
        "ax.set_xlabel('Time(Months')\n",
        "ax.set_ylabel('Average Temperature (Celsius)', color=\"red\")\n",
        "ax2=ax.twinx()\n",
        "ax2.plot(aiq['Month'], aiq['AIQ'],color=\"blue\")\n",
        "ax2.set_ylabel('Average AIQ', color=\"blue\")\n",
        "plt.title('Delhi mothly avg Temperature and AIQ', color=\"green\")\n",
        "plt.show()"
      ],
      "metadata": {
        "colab": {
          "base_uri": "https://localhost:8080/",
          "height": 295
        },
        "id": "pSn6zv-AJGwt",
        "outputId": "79b4f3c4-5bc8-462d-fff8-005fe830f8b8"
      },
      "execution_count": null,
      "outputs": [
        {
          "output_type": "display_data",
          "data": {
            "image/png": "[encoded data removed]",
            "text/plain": [
              "<Figure size 432x288 with 2 Axes>"
            ]
          },
          "metadata": {
            "needs_background": "light"
          }
        }
      ]
    },
    {
      "cell_type": "code",
      "source": [
        "# Define a function called plot_timeseries\n",
        "def plot_timeseries(axes, x, y, color, xlabel, ylabel):\n",
        "\n",
        "  # Plot the inputs x,y in the provided color\n",
        "  axes.plot(x, y, color=color)\n",
        "\n",
        "  # Set the x-axis label\n",
        "  axes.set_xlabel(xlabel)\n",
        "\n",
        "  # Set the y-axis label\n",
        "  axes.set_ylabel(ylabel, color=color)\n",
        "\n",
        "  # Set the colors tick params for y-axis\n",
        "  axes.tick_params('y', colors=color)"
      ],
      "metadata": {
        "id": "rB_HqEmgJykt"
      },
      "execution_count": null,
      "outputs": []
    },
    {
      "cell_type": "code",
      "source": [
        "fig, ax = plt.subplots()\n",
        "\n",
        "# Plot the CO2 levels time-series in blue\n",
        "plot_timeseries(ax,temp['Month'] , temp[\"Temp\"], \"blue\", \"Time (years)\", \"Temp\")\n",
        "\n",
        "# Create a twin Axes object that shares the x-axis\n",
        "ax2 = ax.twinx()\n",
        "\n",
        "# Plot the relative temperature data in red\n",
        "plot_timeseries(ax2,aiq['Month'] , aiq[\"AIQ\"], \"red\", \"Time (years)\", \"AIQ\")\n",
        "plt.show()"
      ],
      "metadata": {
        "colab": {
          "base_uri": "https://localhost:8080/",
          "height": 279
        },
        "id": "0NKMlFyKOAUo",
        "outputId": "feaa6852-fec6-4a48-9912-1d2fcc80880c"
      },
      "execution_count": null,
      "outputs": [
        {
          "output_type": "display_data",
          "data": {
            "image/png": "[encoded data removed]",
            "text/plain": [
              "<Figure size 432x288 with 2 Axes>"
            ]
          },
          "metadata": {
            "needs_background": "light"
          }
        }
      ]
    },
    {
      "cell_type": "code",
      "source": [
        "#Annotation -- not working in our df as we dont have dates\n",
        "#we use the pandas TimeStamp object here\n",
        "#ax.annotate(\"xyz\", xy=(pd.Timestamp('Jul'), 45),  xytext=(pd.Timestamp('Jul'), 30), arrowprops={\"arrowstyle\":\"->\", \"color\":\"black\"})\n",
        "#"
      ],
      "metadata": {
        "id": "txJFEiJpOkF2"
      },
      "execution_count": null,
      "outputs": []
    },
    {
      "cell_type": "code",
      "source": [
        "#bar graph\n",
        "df= [['United States', 137, 52, 67],\n",
        "['Germany', 47, 43, 67],\n",
        "['Great Britain', 64, 55, 26],\n",
        "['Russia', 50, 28, 35],\n",
        "['China', 44, 30, 35],\n",
        "['France', 20, 55, 21],\n",
        "['Australia', 23, 34, 25],\n",
        "['Italy', 8, 38, 24],\n",
        "['Canada', 4, 4, 61],\n",
        "['Japan', 17, 13, 34]]\n",
        "df"
      ],
      "metadata": {
        "id": "dKKQrO5tPlxy",
        "colab": {
          "base_uri": "https://localhost:8080/"
        },
        "outputId": "8a0f27dd-6123-4709-d5fd-0f9b5d97841c"
      },
      "execution_count": null,
      "outputs": [
        {
          "output_type": "execute_result",
          "data": {
            "text/plain": [
              "[['United States', 137, 52, 67],\n",
              " ['Germany', 47, 43, 67],\n",
              " ['Great Britain', 64, 55, 26],\n",
              " ['Russia', 50, 28, 35],\n",
              " ['China', 44, 30, 35],\n",
              " ['France', 20, 55, 21],\n",
              " ['Australia', 23, 34, 25],\n",
              " ['Italy', 8, 38, 24],\n",
              " ['Canada', 4, 4, 61],\n",
              " ['Japan', 17, 13, 34]]"
            ]
          },
          "metadata": {},
          "execution_count": 38
        }
      ]
    },
    {
      "cell_type": "code",
      "source": [
        "olympic = pd.DataFrame(df, columns = ['Country', 'Gold', 'Silver', 'Bronze'])\n",
        "olympic"
      ],
      "metadata": {
        "id": "ZP5hXkqdTUKr",
        "colab": {
          "base_uri": "https://localhost:8080/",
          "height": 322
        },
        "outputId": "01ba160d-cc90-4ee0-826c-9aa7ee1612bb"
      },
      "execution_count": null,
      "outputs": [
        {
          "output_type": "execute_result",
          "data": {
            "text/html": [
              "\n",
              "  <div id=\"df-9367b7b7-ed83-41dd-ac42-abc5e10a19ec\">\n",
              "    <div class=\"colab-df-container\">\n",
              "      <div>\n",
              "<style scoped>\n",
              "    .dataframe tbody tr th:only-of-type {\n",
              "        vertical-align: middle;\n",
              "    }\n",
              "\n",
              "    .dataframe tbody tr th {\n",
              "        vertical-align: top;\n",
              "    }\n",
              "\n",
              "    .dataframe thead th {\n",
              "        text-align: right;\n",
              "    }\n",
              "</style>\n",
              "<table border=\"1\" class=\"dataframe\">\n",
              "  <thead>\n",
              "    <tr style=\"text-align: right;\">\n",
              "      <th></th>\n",
              "      <th>Country</th>\n",
              "      <th>Gold</th>\n",
              "      <th>Silver</th>\n",
              "      <th>Bronze</th>\n",
              "    </tr>\n",
              "  </thead>\n",
              "  <tbody>\n",
              "    <tr>\n",
              "      <th>0</th>\n",
              "      <td>United States</td>\n",
              "      <td>137</td>\n",
              "      <td>52</td>\n",
              "      <td>67</td>\n",
              "    </tr>\n",
              "    <tr>\n",
              "      <th>1</th>\n",
              "      <td>Germany</td>\n",
              "      <td>47</td>\n",
              "      <td>43</td>\n",
              "      <td>67</td>\n",
              "    </tr>\n",
              "    <tr>\n",
              "      <th>2</th>\n",
              "      <td>Great Britain</td>\n",
              "      <td>64</td>\n",
              "      <td>55</td>\n",
              "      <td>26</td>\n",
              "    </tr>\n",
              "    <tr>\n",
              "      <th>3</th>\n",
              "      <td>Russia</td>\n",
              "      <td>50</td>\n",
              "      <td>28</td>\n",
              "      <td>35</td>\n",
              "    </tr>\n",
              "    <tr>\n",
              "      <th>4</th>\n",
              "      <td>China</td>\n",
              "      <td>44</td>\n",
              "      <td>30</td>\n",
              "      <td>35</td>\n",
              "    </tr>\n",
              "    <tr>\n",
              "      <th>5</th>\n",
              "      <td>France</td>\n",
              "      <td>20</td>\n",
              "      <td>55</td>\n",
              "      <td>21</td>\n",
              "    </tr>\n",
              "    <tr>\n",
              "      <th>6</th>\n",
              "      <td>Australia</td>\n",
              "      <td>23</td>\n",
              "      <td>34</td>\n",
              "      <td>25</td>\n",
              "    </tr>\n",
              "    <tr>\n",
              "      <th>7</th>\n",
              "      <td>Italy</td>\n",
              "      <td>8</td>\n",
              "      <td>38</td>\n",
              "      <td>24</td>\n",
              "    </tr>\n",
              "    <tr>\n",
              "      <th>8</th>\n",
              "      <td>Canada</td>\n",
              "      <td>4</td>\n",
              "      <td>4</td>\n",
              "      <td>61</td>\n",
              "    </tr>\n",
              "    <tr>\n",
              "      <th>9</th>\n",
              "      <td>Japan</td>\n",
              "      <td>17</td>\n",
              "      <td>13</td>\n",
              "      <td>34</td>\n",
              "    </tr>\n",
              "  </tbody>\n",
              "</table>\n",
              "</div>\n",
              "      <button class=\"colab-df-convert\" onclick=\"convertToInteractive('df-9367b7b7-ed83-41dd-ac42-abc5e10a19ec')\"\n",
              "              title=\"Convert this dataframe to an interactive table.\"\n",
              "              style=\"display:none;\">\n",
              "        \n",
              "  <svg xmlns=\"http://www.w3.org/2000/svg\" height=\"24px\"viewBox=\"0 0 24 24\"\n",
              "       width=\"24px\">\n",
              "    <path d=\"M0 0h24v24H0V0z\" fill=\"none\"/>\n",
              "    <path d=\"M18.56 5.44l.94 2.06.94-2.06 2.06-.94-2.06-.94-.94-2.06-.94 2.06-2.06.94zm-11 1L8.5 8.5l.94-2.06 2.06-.94-2.06-.94L8.5 2.5l-.94 2.06-2.06.94zm10 10l.94 2.06.94-2.06 2.06-.94-2.06-.94-.94-2.06-.94 2.06-2.06.94z\"/><path d=\"M17.41 7.96l-1.37-1.37c-.4-.4-.92-.59-1.43-.59-.52 0-1.04.2-1.43.59L10.3 9.45l-7.72 7.72c-.78.78-.78 2.05 0 2.83L4 21.41c.39.39.9.59 1.41.59.51 0 1.02-.2 1.41-.59l7.78-7.78 2.81-2.81c.8-.78.8-2.07 0-2.86zM5.41 20L4 18.59l7.72-7.72 1.47 1.35L5.41 20z\"/>\n",
              "  </svg>\n",
              "      </button>\n",
              "      \n",
              "  <style>\n",
              "    .colab-df-container {\n",
              "      display:flex;\n",
              "      flex-wrap:wrap;\n",
              "      gap: 12px;\n",
              "    }\n",
              "\n",
              "    .colab-df-convert {\n",
              "      background-color: #E8F0FE;\n",
              "      border: none;\n",
              "      border-radius: 50%;\n",
              "      cursor: pointer;\n",
              "      display: none;\n",
              "      fill: #1967D2;\n",
              "      height: 32px;\n",
              "      padding: 0 0 0 0;\n",
              "      width: 32px;\n",
              "    }\n",
              "\n",
              "    .colab-df-convert:hover {\n",
              "      background-color: #E2EBFA;\n",
              "      box-shadow: 0px 1px 2px rgba(60, 64, 67, 0.3), 0px 1px 3px 1px rgba(60, 64, 67, 0.15);\n",
              "      fill: #174EA6;\n",
              "    }\n",
              "\n",
              "    [theme=dark] .colab-df-convert {\n",
              "      background-color: #3B4455;\n",
              "      fill: #D2E3FC;\n",
              "    }\n",
              "\n",
              "    [theme=dark] .colab-df-convert:hover {\n",
              "      background-color: #434B5C;\n",
              "      box-shadow: 0px 1px 3px 1px rgba(0, 0, 0, 0.15);\n",
              "      filter: drop-shadow(0px 1px 2px rgba(0, 0, 0, 0.3));\n",
              "      fill: #FFFFFF;\n",
              "    }\n",
              "  </style>\n",
              "\n",
              "      <script>\n",
              "        const buttonEl =\n",
              "          document.querySelector('#df-9367b7b7-ed83-41dd-ac42-abc5e10a19ec button.colab-df-convert');\n",
              "        buttonEl.style.display =\n",
              "          google.colab.kernel.accessAllowed ? 'block' : 'none';\n",
              "\n",
              "        async function convertToInteractive(key) {\n",
              "          const element = document.querySelector('#df-9367b7b7-ed83-41dd-ac42-abc5e10a19ec');\n",
              "          const dataTable =\n",
              "            await google.colab.kernel.invokeFunction('convertToInteractive',\n",
              "                                                     [key], {});\n",
              "          if (!dataTable) return;\n",
              "\n",
              "          const docLinkHtml = 'Like what you see? Visit the ' +\n",
              "            '<a target=\"_blank\" href=https://colab.research.google.com/notebooks/data_table.ipynb>data table notebook</a>'\n",
              "            + ' to learn more about interactive tables.';\n",
              "          element.innerHTML = '';\n",
              "          dataTable['output_type'] = 'display_data';\n",
              "          await google.colab.output.renderOutput(dataTable, element);\n",
              "          const docLink = document.createElement('div');\n",
              "          docLink.innerHTML = docLinkHtml;\n",
              "          element.appendChild(docLink);\n",
              "        }\n",
              "      </script>\n",
              "    </div>\n",
              "  </div>\n",
              "  "
            ],
            "text/plain": [
              "         Country  Gold  Silver  Bronze\n",
              "0  United States   137      52      67\n",
              "1        Germany    47      43      67\n",
              "2  Great Britain    64      55      26\n",
              "3         Russia    50      28      35\n",
              "4          China    44      30      35\n",
              "5         France    20      55      21\n",
              "6      Australia    23      34      25\n",
              "7          Italy     8      38      24\n",
              "8         Canada     4       4      61\n",
              "9          Japan    17      13      34"
            ]
          },
          "metadata": {},
          "execution_count": 40
        }
      ]
    },
    {
      "cell_type": "code",
      "source": [
        "fig, ax= plt.subplots()\n",
        "ax.bar(olympic['Country'], olympic['Gold'], label='Gold Medals', color=\"orange\")\n",
        "ax.set_xticklabels(olympic['Country'], rotation = 90)\n",
        "ax.set_ylabel('No. of medals')\n",
        "ax.set_xlabel('No. of medals')\n",
        "ax.bar(olympic['Country'], olympic['Silver'], bottom=olympic['Gold'],color=\"Green\", label='Silver Medals')\n",
        "ax.bar(olympic['Country'], olympic['Bronze'], bottom=olympic['Gold']+ olympic['Silver'], label='Bronze Medals')\n",
        "ax.legend()\n",
        "plt.show()\n"
      ],
      "metadata": {
        "id": "KH_VE5dG25q-",
        "colab": {
          "base_uri": "https://localhost:8080/",
          "height": 337
        },
        "outputId": "024c16ae-14f1-4a79-eadb-a68f5a86eb23"
      },
      "execution_count": null,
      "outputs": [
        {
          "output_type": "display_data",
          "data": {
            "image/png": "[encoded data removed]",
            "text/plain": [
              "<Figure size 432x288 with 1 Axes>"
            ]
          },
          "metadata": {
            "needs_background": "light"
          }
        }
      ]
    },
    {
      "cell_type": "code",
      "source": [
        ""
      ],
      "metadata": {
        "id": "1bkgYE9qGR7A"
      },
      "execution_count": null,
      "outputs": []
    }
  ]
}