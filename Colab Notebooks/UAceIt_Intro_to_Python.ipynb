{
  "nbformat": 4,
  "nbformat_minor": 0,
  "metadata": {
    "colab": {
      "name": "UAceIt- Intro to Python.ipynb",
      "provenance": [],
      "collapsed_sections": [
        "zguv0FUiSZeA",
        "p705cbHzUDQZ"
      ]
    },
    "kernelspec": {
      "name": "python3",
      "display_name": "Python 3"
    },
    "language_info": {
      "name": "python"
    }
  },
  "cells": [
    {
      "cell_type": "code",
      "metadata": {
        "id": "B8-Hl5FYOUf_",
        "colab": {
          "base_uri": "https://localhost:8080/"
        },
        "outputId": "03282c1a-41a3-4433-c364-3412bbd19964"
      },
      "source": [
        "print('Hello Everyone!!!')\n",
        "print(6+7)\n",
        "y=7*8\n",
        "print(y)\n",
        "print() # blank line\n",
        "\n",
        "x=9\n",
        "x+= 1\n",
        "x\n"
      ],
      "execution_count": null,
      "outputs": [
        {
          "output_type": "stream",
          "name": "stdout",
          "text": [
            "Hello Everyone!!!\n",
            "13\n",
            "56\n",
            "\n"
          ]
        },
        {
          "output_type": "execute_result",
          "data": {
            "text/plain": [
              "10"
            ]
          },
          "metadata": {},
          "execution_count": 8
        }
      ]
    },
    {
      "cell_type": "code",
      "source": [
        "x=9\n",
        "print(type(x))"
      ],
      "metadata": {
        "colab": {
          "base_uri": "https://localhost:8080/"
        },
        "id": "6jMmasa-PygR",
        "outputId": "e21f6f25-cb00-4e60-cbf8-0d36b4926cf1"
      },
      "execution_count": null,
      "outputs": [
        {
          "output_type": "stream",
          "name": "stdout",
          "text": [
            "<class 'int'>\n"
          ]
        }
      ]
    },
    {
      "cell_type": "code",
      "metadata": {
        "id": "X4lIa5GPOVpE",
        "colab": {
          "base_uri": "https://localhost:8080/"
        },
        "outputId": "b396fa68-aa04-498b-85bf-8ebd519a30f1"
      },
      "source": [
        "# Concatenation \n",
        "print('hello' + 'world')\n",
        "\n",
        "# variable\n",
        "x = 'Hello'\n",
        "z = 'xyz'\n",
        "print(x+ ' '+ z)\n"
      ],
      "execution_count": null,
      "outputs": [
        {
          "output_type": "stream",
          "name": "stdout",
          "text": [
            "helloworld\n",
            "Hello xyz\n"
          ]
        }
      ]
    },
    {
      "cell_type": "code",
      "source": [
        "x = 5\n",
        "x ==5"
      ],
      "metadata": {
        "colab": {
          "base_uri": "https://localhost:8080/"
        },
        "id": "dAB2Pj7MQ2E0",
        "outputId": "e06daa0b-693a-4680-8cfd-a112f3047c79"
      },
      "execution_count": null,
      "outputs": [
        {
          "output_type": "execute_result",
          "data": {
            "text/plain": [
              "True"
            ]
          },
          "metadata": {},
          "execution_count": 11
        }
      ]
    },
    {
      "cell_type": "code",
      "source": [
        "drink_name = input(\"Enter your fav drink\")\n",
        "# Put an `f` before your string, then you can include variable names between {curly braces}\n",
        "fun_fact = f'My favorite coffee drink is a {drink_name}. It\\'s the best!'\n",
        "#fun_fact = f'My fav drink is {drink_name}'\n",
        "\n",
        "fun_fact"
      ],
      "metadata": {
        "id": "wG_wdRkyxWSZ",
        "colab": {
          "base_uri": "https://localhost:8080/",
          "height": 54
        },
        "outputId": "8e50c661-ee49-4d6b-e2a0-ac3a189b9daa"
      },
      "execution_count": null,
      "outputs": [
        {
          "name": "stdout",
          "output_type": "stream",
          "text": [
            "Enter your fav drinklatte\n"
          ]
        },
        {
          "output_type": "execute_result",
          "data": {
            "application/vnd.google.colaboratory.intrinsic+json": {
              "type": "string"
            },
            "text/plain": [
              "\"My favorite coffee drink is a latte. It's the best!\""
            ]
          },
          "metadata": {},
          "execution_count": 12
        }
      ]
    },
    {
      "cell_type": "markdown",
      "metadata": {
        "id": "j27yze25E9b-"
      },
      "source": [
        "**Reference:** https://www.w3schools.com/python/gloss_python_string_concatenation.asp"
      ]
    },
    {
      "cell_type": "markdown",
      "metadata": {
        "id": "nnTzNv2UPf8a"
      },
      "source": [
        "#### By default type is string."
      ]
    },
    {
      "cell_type": "code",
      "metadata": {
        "id": "CpKK7WUDEzn_",
        "colab": {
          "base_uri": "https://localhost:8080/"
        },
        "outputId": "01fe25ee-a175-468b-966a-2582c367b654"
      },
      "source": [
        "b = \"5\"\n",
        "type(b)"
      ],
      "execution_count": null,
      "outputs": [
        {
          "output_type": "execute_result",
          "data": {
            "text/plain": [
              "str"
            ]
          },
          "metadata": {},
          "execution_count": 13
        }
      ]
    },
    {
      "cell_type": "code",
      "metadata": {
        "id": "ItpcdDF7E2nO",
        "colab": {
          "base_uri": "https://localhost:8080/"
        },
        "outputId": "61aed9dd-4bce-49e1-fee5-af283593e146"
      },
      "source": [
        "b = int(b)\n",
        "\n",
        "type(b)"
      ],
      "execution_count": null,
      "outputs": [
        {
          "output_type": "execute_result",
          "data": {
            "text/plain": [
              "int"
            ]
          },
          "metadata": {},
          "execution_count": 14
        }
      ]
    },
    {
      "cell_type": "code",
      "metadata": {
        "id": "xngNLjnZPfcd",
        "colab": {
          "base_uri": "https://localhost:8080/"
        },
        "outputId": "ccea1362-f34c-473f-9ed5-4903b5979b25"
      },
      "source": [
        "age = int(input(\"please enter age\"))"
      ],
      "execution_count": null,
      "outputs": [
        {
          "name": "stdout",
          "output_type": "stream",
          "text": [
            "please enter age4\n"
          ]
        }
      ]
    },
    {
      "cell_type": "code",
      "metadata": {
        "id": "v_g2wQ0APnNa",
        "colab": {
          "base_uri": "https://localhost:8080/"
        },
        "outputId": "c1502e9e-b840-4ad3-b041-ca227a243881"
      },
      "source": [
        "type(age)"
      ],
      "execution_count": null,
      "outputs": [
        {
          "output_type": "execute_result",
          "data": {
            "text/plain": [
              "int"
            ]
          },
          "metadata": {},
          "execution_count": 16
        }
      ]
    },
    {
      "cell_type": "code",
      "source": [
        "xu = \"5\"\n",
        "xu = int(xu)"
      ],
      "metadata": {
        "id": "XKgFkoGiTRVc"
      },
      "execution_count": null,
      "outputs": []
    },
    {
      "cell_type": "code",
      "metadata": {
        "id": "2vsedrovFaya",
        "colab": {
          "base_uri": "https://localhost:8080/"
        },
        "outputId": "2a7c574b-66b6-41d6-af07-21b02f49271c"
      },
      "source": [
        "name= \"5\"\n",
        "print(int(name)+age)"
      ],
      "execution_count": null,
      "outputs": [
        {
          "output_type": "stream",
          "name": "stdout",
          "text": [
            "9\n"
          ]
        }
      ]
    },
    {
      "cell_type": "code",
      "source": [
        "name = input ('Hey whats your name')\n",
        "(age) = input('and your age?')\n",
        "\n",
        "out= f'So basically you are {name} and you say you are {age} years old?'\n",
        "out\n"
      ],
      "metadata": {
        "id": "2mhQLuQzztAB",
        "colab": {
          "base_uri": "https://localhost:8080/",
          "height": 72
        },
        "outputId": "a135c244-d0d8-4027-e69b-c5cbbf3d9cd7"
      },
      "execution_count": null,
      "outputs": [
        {
          "name": "stdout",
          "output_type": "stream",
          "text": [
            "Hey hwats your name anne\n",
            "and your age?6\n"
          ]
        },
        {
          "output_type": "execute_result",
          "data": {
            "application/vnd.google.colaboratory.intrinsic+json": {
              "type": "string"
            },
            "text/plain": [
              "'So basically you ar  anne and you say you are 6 years old?'"
            ]
          },
          "metadata": {},
          "execution_count": 23
        }
      ]
    },
    {
      "cell_type": "markdown",
      "metadata": {
        "id": "FsZ4MXApQb0_"
      },
      "source": [
        "### Numeric Data type in Python\n",
        "\n",
        "1.   int\n",
        "2.   float\n",
        "3.   Complex\n"
      ]
    },
    {
      "cell_type": "code",
      "metadata": {
        "id": "jk0j1NCFF5w1",
        "colab": {
          "base_uri": "https://localhost:8080/"
        },
        "outputId": "665f6977-2a03-4193-c360-337eae4e420a"
      },
      "source": [
        "#** --> raise to the power --> ^\n",
        "print(2**3)"
      ],
      "execution_count": null,
      "outputs": [
        {
          "output_type": "stream",
          "name": "stdout",
          "text": [
            "8\n"
          ]
        }
      ]
    },
    {
      "cell_type": "code",
      "metadata": {
        "id": "bDj9AJ1MPnS4",
        "colab": {
          "base_uri": "https://localhost:8080/"
        },
        "outputId": "22460295-2820-489a-88da-6455db1d53ba"
      },
      "source": [
        "a=10; b=5\n",
        "print(a+b)\n",
        "print(a-b)\n",
        "print(a*b)\n",
        "print(a/b)\n",
        "print(a//b)\n",
        "print(a%b)\n",
        "print(b**a)"
      ],
      "execution_count": null,
      "outputs": [
        {
          "output_type": "stream",
          "name": "stdout",
          "text": [
            "15\n",
            "5\n",
            "50\n",
            "2.0\n",
            "2\n",
            "0\n",
            "9765625\n"
          ]
        }
      ]
    },
    {
      "cell_type": "code",
      "metadata": {
        "id": "NHG6aGaXPnVl",
        "colab": {
          "base_uri": "https://localhost:8080/"
        },
        "outputId": "354d247c-b0d6-42d3-974a-f95ae1136eb7"
      },
      "source": [
        "## Solve:\n",
        "print(a+(b/3)-(4*12))"
      ],
      "execution_count": null,
      "outputs": [
        {
          "output_type": "stream",
          "name": "stdout",
          "text": [
            "-36.333333333333336\n"
          ]
        }
      ]
    },
    {
      "cell_type": "code",
      "metadata": {
        "id": "o9Plw7_lGhLr",
        "colab": {
          "base_uri": "https://localhost:8080/"
        },
        "outputId": "9a033a88-c8d7-4690-c41c-4fcf8869a146"
      },
      "source": [
        "print(a+b/3-4*12)"
      ],
      "execution_count": null,
      "outputs": [
        {
          "output_type": "stream",
          "name": "stdout",
          "text": [
            "-36.333333333333336\n"
          ]
        }
      ]
    },
    {
      "cell_type": "code",
      "metadata": {
        "id": "mVI3cNsFGovo",
        "colab": {
          "base_uri": "https://localhost:8080/"
        },
        "outputId": "8c6584c1-dd6a-4798-9585-7f038867e6d9"
      },
      "source": [
        "print((5+11)/(3-4)*12)"
      ],
      "execution_count": null,
      "outputs": [
        {
          "output_type": "stream",
          "name": "stdout",
          "text": [
            "-192.0\n"
          ]
        }
      ]
    },
    {
      "cell_type": "code",
      "metadata": {
        "id": "lz0WphoYPnYK"
      },
      "source": [
        "x = \"Intro to Python\"\n",
        "print(x[0])\n",
        "print(x[3])\n",
        "print(x[-1])\n",
        "len(x)"
      ],
      "execution_count": null,
      "outputs": []
    },
    {
      "cell_type": "code",
      "metadata": {
        "id": "ugA2g9LOOV5C",
        "colab": {
          "base_uri": "https://localhost:8080/"
        },
        "outputId": "c46a39d8-eab3-4aee-a105-406d796f52bc"
      },
      "source": [
        "# Slicing\n",
        "# str[from:to] (from included, to not included)\n",
        "x = \"Intro to PYTHON\"\n",
        "print(x[1:3])\n",
        "print(x[:6])\n",
        "print(x[2:])\n",
        "print(x[-4:-6])"
      ],
      "execution_count": null,
      "outputs": [
        {
          "output_type": "stream",
          "name": "stdout",
          "text": [
            "nt\n",
            "Intro \n",
            "tro to PYTHON\n",
            "\n"
          ]
        }
      ]
    },
    {
      "cell_type": "code",
      "metadata": {
        "id": "q9FmbeZbJ-eJ",
        "colab": {
          "base_uri": "https://localhost:8080/"
        },
        "outputId": "c4f837ce-47fa-4a30-8c23-942608f4942a"
      },
      "source": [
        "print(x[6:3])"
      ],
      "execution_count": null,
      "outputs": [
        {
          "output_type": "stream",
          "name": "stdout",
          "text": [
            "\n"
          ]
        }
      ]
    },
    {
      "cell_type": "code",
      "metadata": {
        "id": "WBNfa60MJlQQ",
        "colab": {
          "base_uri": "https://localhost:8080/"
        },
        "outputId": "7f51afd6-48c2-43e8-f887-73e37b669f97"
      },
      "source": [
        "print(x[-6])"
      ],
      "execution_count": null,
      "outputs": [
        {
          "output_type": "stream",
          "name": "stdout",
          "text": [
            "P\n"
          ]
        }
      ]
    },
    {
      "cell_type": "code",
      "metadata": {
        "id": "FIeFwu_-I_d6"
      },
      "source": [
        "print(x[-6:-3])"
      ],
      "execution_count": null,
      "outputs": []
    },
    {
      "cell_type": "code",
      "metadata": {
        "id": "1d0jxkHDLcbs",
        "colab": {
          "base_uri": "https://localhost:8080/"
        },
        "outputId": "c993c19e-3931-470f-a6b5-59165fe30966"
      },
      "source": [
        "print(x[:6])"
      ],
      "execution_count": null,
      "outputs": [
        {
          "output_type": "stream",
          "name": "stdout",
          "text": [
            "Intro \n"
          ]
        }
      ]
    },
    {
      "cell_type": "code",
      "metadata": {
        "id": "lZ1Z1pKoOV8G",
        "colab": {
          "base_uri": "https://localhost:8080/"
        },
        "outputId": "fafc3530-18f1-442c-d984-1b1e28a572cb"
      },
      "source": [
        "# Slicing\n",
        "# str[from:to:steps] (from included, to not included, steps to jump)\n",
        "x = \"Intro to python\"\n",
        "print(x[:3:2])\n",
        "print(x[3:5])\n",
        "print(x[3:8:2])\n",
        "print(x[:6:-1])\n",
        "print(x[2::3])\n",
        "print(x[-4::-2])"
      ],
      "execution_count": null,
      "outputs": [
        {
          "output_type": "stream",
          "name": "stdout",
          "text": [
            "It\n",
            "ro\n",
            "r o\n",
            "nohtyp o\n",
            "t  tn\n",
            "tpo rn\n"
          ]
        }
      ]
    },
    {
      "cell_type": "code",
      "metadata": {
        "id": "C4ffb9G2LKY1",
        "colab": {
          "base_uri": "https://localhost:8080/"
        },
        "outputId": "d1e9cbff-d590-4110-c92e-8812c39811e0"
      },
      "source": [
        "print(x[-4:-6:-1])"
      ],
      "execution_count": null,
      "outputs": [
        {
          "output_type": "stream",
          "name": "stdout",
          "text": [
            "ty\n"
          ]
        }
      ]
    },
    {
      "cell_type": "markdown",
      "metadata": {
        "id": "0znAgCe5FiNN"
      },
      "source": [
        "**Reference:** https://www.w3schools.com/python/python_strings_slicing.asp"
      ]
    },
    {
      "cell_type": "code",
      "metadata": {
        "id": "cl4eeCuMOV_D",
        "colab": {
          "base_uri": "https://localhost:8080/"
        },
        "outputId": "d45c56df-fcd2-486d-8cb4-81e6408e08c1"
      },
      "source": [
        "print(\"hello\"*5)"
      ],
      "execution_count": null,
      "outputs": [
        {
          "output_type": "stream",
          "name": "stdout",
          "text": [
            "hellohellohellohellohello\n"
          ]
        }
      ]
    },
    {
      "cell_type": "code",
      "metadata": {
        "id": "cvP6paSJMWvj",
        "colab": {
          "base_uri": "https://localhost:8080/"
        },
        "outputId": "fd70187c-d072-43a8-ea94-68b111ece6d4"
      },
      "source": [
        "s = \"5\"*5\n",
        "type(s)"
      ],
      "execution_count": null,
      "outputs": [
        {
          "output_type": "execute_result",
          "data": {
            "text/plain": [
              "str"
            ]
          },
          "metadata": {},
          "execution_count": 37
        }
      ]
    },
    {
      "cell_type": "code",
      "metadata": {
        "id": "ukPjp8UgPQ9Z",
        "colab": {
          "base_uri": "https://localhost:8080/"
        },
        "outputId": "d812295c-0ba4-48ac-d993-bb80e4f31180"
      },
      "source": [
        "2**3"
      ],
      "execution_count": null,
      "outputs": [
        {
          "output_type": "execute_result",
          "data": {
            "text/plain": [
              "8"
            ]
          },
          "metadata": {},
          "execution_count": 36
        }
      ]
    },
    {
      "cell_type": "code",
      "metadata": {
        "id": "I8qtOV-mOkV8",
        "colab": {
          "base_uri": "https://localhost:8080/"
        },
        "outputId": "5e4b0775-7a64-494b-f5e0-943a67a2b158"
      },
      "source": [
        "for i in range(1, 10):\n",
        "  print(\"No. {0} squared is {1} & cubed is {2}\".format(i, i**2, i**3))"
      ],
      "execution_count": null,
      "outputs": [
        {
          "output_type": "stream",
          "name": "stdout",
          "text": [
            "No. 1 squared is 1 & cubed is 1\n",
            "No. 2 squared is 4 & cubed is 8\n",
            "No. 3 squared is 9 & cubed is 27\n",
            "No. 4 squared is 16 & cubed is 64\n",
            "No. 5 squared is 25 & cubed is 125\n",
            "No. 6 squared is 36 & cubed is 216\n",
            "No. 7 squared is 49 & cubed is 343\n",
            "No. 8 squared is 64 & cubed is 512\n",
            "No. 9 squared is 81 & cubed is 729\n"
          ]
        }
      ]
    },
    {
      "cell_type": "markdown",
      "metadata": {
        "id": "zwQY_UR2Euc8"
      },
      "source": [
        "**Reference:** https://www.w3schools.com/python/ref_string_format.asp\n",
        "\n",
        "https://www.w3schools.com/python/python_for_loops.asp"
      ]
    },
    {
      "cell_type": "markdown",
      "metadata": {
        "id": "pe2nQAQbYr5T"
      },
      "source": [
        "### Lists:\n",
        "\n",
        "Similar to Linked List\n",
        "If we have multiples of one kind of variable, we can use a list\n",
        " We can create a list with [square brackets], separating each value with commas\n",
        "\n",
        "**Reference:** https://www.w3schools.com/python/python_lists.asp"
      ]
    },
    {
      "cell_type": "code",
      "metadata": {
        "id": "Nz7WJD0_Wa2N",
        "colab": {
          "base_uri": "https://localhost:8080/"
        },
        "outputId": "e4d85342-02ed-4718-b6a8-50298c45f753"
      },
      "source": [
        "cities = ['Nashville', 'Boston']\n",
        "\n",
        "# We can add a new element to the list with the .append method\n",
        "\n",
        "cities.append('Seattle')\n",
        "cities\n"
      ],
      "execution_count": null,
      "outputs": [
        {
          "output_type": "execute_result",
          "data": {
            "text/plain": [
              "['Nashville', 'Boston', 'Seattle']"
            ]
          },
          "metadata": {},
          "execution_count": 40
        }
      ]
    },
    {
      "cell_type": "code",
      "source": [
        "\n",
        "# we can index specific elements, starting with 0. Just like strings!\n",
        "\n",
        "cities[0], cities[2]"
      ],
      "metadata": {
        "id": "c31mUV-003UQ",
        "colab": {
          "base_uri": "https://localhost:8080/"
        },
        "outputId": "8b81fbff-ffef-4cb1-bddc-6942ef5349f5"
      },
      "execution_count": null,
      "outputs": [
        {
          "output_type": "execute_result",
          "data": {
            "text/plain": [
              "('Nashville', 'Seattle')"
            ]
          },
          "metadata": {},
          "execution_count": 41
        }
      ]
    },
    {
      "cell_type": "code",
      "metadata": {
        "id": "4nU6AbUOeQaY",
        "colab": {
          "base_uri": "https://localhost:8080/"
        },
        "outputId": "94460750-b2e5-4590-8093-c0e90746e56e"
      },
      "source": [
        "lt = [1, 2, 3, 4, 5, 6]\n",
        "lt2 = [\"m\", \"o\",\"n\"]\n",
        "lx = lt+lt2\n",
        "print(lx)"
      ],
      "execution_count": null,
      "outputs": [
        {
          "output_type": "stream",
          "name": "stdout",
          "text": [
            "[1, 2, 3, 4, 5, 6, 'm', 'o', 'n']\n"
          ]
        }
      ]
    },
    {
      "cell_type": "code",
      "metadata": {
        "id": "0oTzpYyAYrMB",
        "colab": {
          "base_uri": "https://localhost:8080/"
        },
        "outputId": "efadb5f6-e5ea-4ad5-fb0e-dc4e49123071"
      },
      "source": [
        "even = [2, 4, 6, 8]\n",
        "odd = [1, 3, 5, 7, 9]\n",
        "\n",
        "numbers = even+odd\n",
        "print(numbers)\n",
        "print(sorted(numbers))\n",
        "print(numbers)\n",
        "numbers.sort()  # works on existing object , doesn't creat anything new\n",
        "print(numbers)"
      ],
      "execution_count": null,
      "outputs": [
        {
          "output_type": "stream",
          "name": "stdout",
          "text": [
            "[2, 4, 6, 8, 1, 3, 5, 7, 9]\n",
            "[1, 2, 3, 4, 5, 6, 7, 8, 9]\n",
            "[2, 4, 6, 8, 1, 3, 5, 7, 9]\n",
            "[1, 2, 3, 4, 5, 6, 7, 8, 9]\n"
          ]
        }
      ]
    },
    {
      "cell_type": "code",
      "metadata": {
        "id": "tZHCLqCCYrOp",
        "colab": {
          "base_uri": "https://localhost:8080/"
        },
        "outputId": "e7b78bde-bc06-430a-81ca-534b5f9ac0fc"
      },
      "source": [
        "numbers = even+odd\n",
        "n = sorted(numbers)\n",
        "print(n)\n",
        "if numbers == n:\n",
        "  print(\"This lists are equal\")\n",
        "else:\n",
        "  print(\"This lists aren't equal\")"
      ],
      "execution_count": null,
      "outputs": [
        {
          "output_type": "stream",
          "name": "stdout",
          "text": [
            "[1, 2, 3, 4, 5, 6, 7, 8, 9]\n",
            "This lists aren't equal\n"
          ]
        }
      ]
    },
    {
      "cell_type": "code",
      "metadata": {
        "id": "PXJ9wUYTWa49",
        "colab": {
          "base_uri": "https://localhost:8080/"
        },
        "outputId": "9d92be78-8ed5-47ad-e413-5e2d0f86ec7a"
      },
      "source": [
        "print(list(\"Please pay attention!\"))"
      ],
      "execution_count": null,
      "outputs": [
        {
          "output_type": "stream",
          "name": "stdout",
          "text": [
            "['P', 'l', 'e', 'a', 's', 'e', ' ', 'p', 'a', 'y', ' ', 'a', 't', 't', 'e', 'n', 't', 'i', 'o', 'n', '!']\n"
          ]
        }
      ]
    },
    {
      "cell_type": "code",
      "metadata": {
        "id": "Ih5eWKu5fkT2"
      },
      "source": [
        "#print(list(\"Please pay attention!\", \"attention\"))\n",
        "\n",
        "# TypeError: list expected at most 1 arguments, got 2"
      ],
      "execution_count": null,
      "outputs": []
    },
    {
      "cell_type": "code",
      "metadata": {
        "id": "VbalQ3S7Wa7x",
        "colab": {
          "base_uri": "https://localhost:8080/"
        },
        "outputId": "2927e899-d379-49a5-94d9-ef2bbad0740d"
      },
      "source": [
        "numbers = even+odd\n",
        "numbers.sort(reverse=True)\n",
        "print(numbers)"
      ],
      "execution_count": null,
      "outputs": [
        {
          "output_type": "stream",
          "name": "stdout",
          "text": [
            "[9, 8, 7, 6, 5, 4, 3, 2, 1]\n"
          ]
        }
      ]
    },
    {
      "cell_type": "code",
      "metadata": {
        "id": "56FMS5U_ahzw",
        "colab": {
          "base_uri": "https://localhost:8080/"
        },
        "outputId": "16b817ec-2d31-4091-d4fd-db92a77422bc"
      },
      "source": [
        "numbers = [odd, even]\n",
        "print(numbers)"
      ],
      "execution_count": null,
      "outputs": [
        {
          "output_type": "stream",
          "name": "stdout",
          "text": [
            "[[1, 3, 5, 7, 9], [2, 4, 6, 8]]\n"
          ]
        }
      ]
    },
    {
      "cell_type": "code",
      "metadata": {
        "id": "sthd2oO0h4pa",
        "colab": {
          "base_uri": "https://localhost:8080/"
        },
        "outputId": "419ca238-d27e-4f4c-f012-62f9140cb170"
      },
      "source": [
        "numbers = even+odd\n",
        "numbers"
      ],
      "execution_count": null,
      "outputs": [
        {
          "output_type": "execute_result",
          "data": {
            "text/plain": [
              "[2, 4, 6, 8, 1, 3, 5, 7, 9]"
            ]
          },
          "metadata": {},
          "execution_count": 49
        }
      ]
    },
    {
      "cell_type": "code",
      "metadata": {
        "id": "nt6gLEDtawIV",
        "colab": {
          "base_uri": "https://localhost:8080/"
        },
        "outputId": "518643aa-a6d7-407e-a54d-dc8a078fa6bc"
      },
      "source": [
        "numbers = even+odd\n",
        "numbers.remove(2)\n",
        "print(numbers)"
      ],
      "execution_count": null,
      "outputs": [
        {
          "output_type": "stream",
          "name": "stdout",
          "text": [
            "[4, 6, 8, 1, 3, 5, 7, 9]\n"
          ]
        }
      ]
    },
    {
      "cell_type": "code",
      "metadata": {
        "id": "itTpx9zXiDSo",
        "colab": {
          "base_uri": "https://localhost:8080/"
        },
        "outputId": "6151546b-d747-4388-902a-82eff91f89d4"
      },
      "source": [
        "numbers.remove(5)\n",
        "print(numbers)"
      ],
      "execution_count": null,
      "outputs": [
        {
          "output_type": "stream",
          "name": "stdout",
          "text": [
            "[4, 6, 8, 1, 3, 7, 9]\n"
          ]
        }
      ]
    },
    {
      "cell_type": "code",
      "metadata": {
        "id": "4UTRJX_ebEBV",
        "colab": {
          "base_uri": "https://localhost:8080/"
        },
        "outputId": "6695590c-4133-44e2-cbe4-fbd36552d6a8"
      },
      "source": [
        "my_list = list(range(10))\n",
        "print(my_list)\n",
        "\n",
        "even = list(range(0, 10, 2))\n",
        "odd = list(range(1, 10, 2))\n",
        "print(even)\n",
        "print(odd)"
      ],
      "execution_count": null,
      "outputs": [
        {
          "output_type": "stream",
          "name": "stdout",
          "text": [
            "[0, 1, 2, 3, 4, 5, 6, 7, 8, 9]\n",
            "[0, 2, 4, 6, 8]\n",
            "[1, 3, 5, 7, 9]\n"
          ]
        }
      ]
    },
    {
      "cell_type": "code",
      "metadata": {
        "id": "t_ClDaI5bnaK",
        "colab": {
          "base_uri": "https://localhost:8080/"
        },
        "outputId": "3ace7e07-4573-49ce-ed40-3f8d7a9fb6a0"
      },
      "source": [
        "print(even.index(4))"
      ],
      "execution_count": null,
      "outputs": [
        {
          "output_type": "stream",
          "name": "stdout",
          "text": [
            "2\n"
          ]
        }
      ]
    },
    {
      "cell_type": "code",
      "metadata": {
        "id": "0IRcw6xbjPaH",
        "colab": {
          "base_uri": "https://localhost:8080/"
        },
        "outputId": "641ba4db-7f24-4c10-9f60-62f8254cc261"
      },
      "source": [
        "even[2]"
      ],
      "execution_count": null,
      "outputs": [
        {
          "output_type": "execute_result",
          "data": {
            "text/plain": [
              "4"
            ]
          },
          "metadata": {},
          "execution_count": 54
        }
      ]
    },
    {
      "cell_type": "code",
      "metadata": {
        "id": "HOcw6lgMbnc-",
        "colab": {
          "base_uri": "https://localhost:8080/"
        },
        "outputId": "68cd5558-6dec-4eb0-b5ac-d2782eb97826"
      },
      "source": [
        "r = range(0, 100)\n",
        "for i in r[::-2]:\n",
        "  print(i)"
      ],
      "execution_count": null,
      "outputs": [
        {
          "output_type": "stream",
          "name": "stdout",
          "text": [
            "99\n",
            "97\n",
            "95\n",
            "93\n",
            "91\n",
            "89\n",
            "87\n",
            "85\n",
            "83\n",
            "81\n",
            "79\n",
            "77\n",
            "75\n",
            "73\n",
            "71\n",
            "69\n",
            "67\n",
            "65\n",
            "63\n",
            "61\n",
            "59\n",
            "57\n",
            "55\n",
            "53\n",
            "51\n",
            "49\n",
            "47\n",
            "45\n",
            "43\n",
            "41\n",
            "39\n",
            "37\n",
            "35\n",
            "33\n",
            "31\n",
            "29\n",
            "27\n",
            "25\n",
            "23\n",
            "21\n",
            "19\n",
            "17\n",
            "15\n",
            "13\n",
            "11\n",
            "9\n",
            "7\n",
            "5\n",
            "3\n",
            "1\n"
          ]
        }
      ]
    },
    {
      "cell_type": "markdown",
      "source": [
        "# FUNCTIONS \n",
        "You can think of functions like a bunch of code that is intended to do a particular task in the whole Python script. Python used the keyword 'def' to define a function.\n",
        "\n",
        "**syntax**\n",
        "\n",
        "```\n",
        "def function-name(arguments):\n",
        "\n",
        "            #function body\n",
        "```\n",
        "\n"
      ],
      "metadata": {
        "id": "up2qxLuVbknz"
      }
    },
    {
      "cell_type": "code",
      "source": [
        "# Python program to illustrate\n",
        "# functions\n",
        "def hello():\n",
        "    input(\"Whats your name\")\n",
        "\n"
      ],
      "metadata": {
        "id": "rGq7edKzb0WE"
      },
      "execution_count": null,
      "outputs": []
    },
    {
      "cell_type": "code",
      "source": [
        "# calling function\n",
        "hello()    "
      ],
      "metadata": {
        "id": "9vJpjifhZMYW",
        "colab": {
          "base_uri": "https://localhost:8080/"
        },
        "outputId": "764f189b-a246-4ff1-967b-7c531c71e8d4"
      },
      "execution_count": null,
      "outputs": [
        {
          "name": "stdout",
          "output_type": "stream",
          "text": [
            "Whats your name Anne\n"
          ]
        }
      ]
    },
    {
      "cell_type": "code",
      "source": [
        ""
      ],
      "metadata": {
        "id": "SXcExx9LzpI_"
      },
      "execution_count": null,
      "outputs": []
    }
  ]
}